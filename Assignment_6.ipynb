{
 "cells": [
  {
   "cell_type": "code",
   "execution_count": 1,
   "id": "5e828787-fa9a-473a-b01e-848cd6f286a9",
   "metadata": {},
   "outputs": [
    {
     "name": "stdout",
     "output_type": "stream",
     "text": [
      "Core Course Details:\n",
      "Course Code: CS101\n",
      "Course Name: Introduction to Computer Science\n",
      "Credit Hours: 3\n",
      "Required for Major: Yes\n",
      "\n",
      "Elective Course Details:\n",
      "Course Code: CS201\n",
      "Course Name: Introduction to Python\n",
      "Credit Hours: 2\n",
      "Elective Type: liberal arts\n"
     ]
    }
   ],
   "source": [
    "# Question 1: University Course Catalog\n",
    "# Base class: Course\n",
    "class Course:\n",
    "    def __init__(self, course_code, course_name, credit_hours):\n",
    "        self.course_code = course_code\n",
    "        self.course_name = course_name\n",
    "        self.credit_hours = credit_hours\n",
    "\n",
    "    def display_info(self):\n",
    "        print(f\"Course Code: {self.course_code}\")\n",
    "        print(f\"Course Name: {self.course_name}\")\n",
    "        print(f\"Credit Hours: {self.credit_hours}\")\n",
    "\n",
    "# Subclass: CoreCourse\n",
    "class CoreCourse(Course):\n",
    "    def __init__(self, course_code, course_name, credit_hours, required_for_major):\n",
    "        super().__init__(course_code, course_name, credit_hours)\n",
    "        self.required_for_major = required_for_major\n",
    "\n",
    "    def display_info(self):\n",
    "        super().display_info()\n",
    "        print(f\"Required for Major: {'Yes' if self.required_for_major else 'No'}\")\n",
    "\n",
    "# Subclass: ElectiveCourse\n",
    "class ElectiveCourse(Course):\n",
    "    def __init__(self, course_code, course_name, credit_hours, elective_type):\n",
    "        super().__init__(course_code, course_name, credit_hours)\n",
    "        self.elective_type = elective_type\n",
    "\n",
    "    def display_info(self):\n",
    "        super().display_info()\n",
    "        print(f\"Elective Type: {self.elective_type}\")\n",
    "\n",
    "# Creating objects and displaying information\n",
    "core = CoreCourse(\"CS101\", \"Introduction to Computer Science\", 3, True)\n",
    "elective = ElectiveCourse(\"CS201\", \"Introduction to Python\", 2, \"liberal arts\")\n",
    "\n",
    "print(\"Core Course Details:\")\n",
    "core.display_info()\n",
    "\n",
    "print(\"\\nElective Course Details:\")\n",
    "elective.display_info()\n"
   ]
  },
  {
   "cell_type": "code",
   "execution_count": 3,
   "id": "ed31a0c0-4002-4b34-8191-57105cbeaea9",
   "metadata": {},
   "outputs": [],
   "source": [
    "#Question 2: Employee Module\n",
    "class Employee:\n",
    "    def __init__(self, name, salary):\n",
    "        self.name = name\n",
    "        self.salary = salary\n",
    "\n",
    "    def get_name(self):\n",
    "        return self.name\n",
    "\n",
    "    def get_salary(self):\n",
    "        return self.salary\n",
    "\n"
   ]
  },
  {
   "cell_type": "code",
   "execution_count": 5,
   "id": "3c0315fe-08e0-404f-9ddb-1f3bb5841b02",
   "metadata": {},
   "outputs": [
    {
     "ename": "ModuleNotFoundError",
     "evalue": "No module named 'employee'",
     "output_type": "error",
     "traceback": [
      "\u001b[1;31m---------------------------------------------------------------------------\u001b[0m",
      "\u001b[1;31mModuleNotFoundError\u001b[0m                       Traceback (most recent call last)",
      "Cell \u001b[1;32mIn[5], line 2\u001b[0m\n\u001b[0;32m      1\u001b[0m \u001b[38;5;66;03m# main.py\u001b[39;00m\n\u001b[1;32m----> 2\u001b[0m \u001b[38;5;28;01mfrom\u001b[39;00m \u001b[38;5;21;01memployee\u001b[39;00m \u001b[38;5;28;01mimport\u001b[39;00m Employee\n\u001b[0;32m      4\u001b[0m \u001b[38;5;66;03m# Creating an Employee object\u001b[39;00m\n\u001b[0;32m      5\u001b[0m emp \u001b[38;5;241m=\u001b[39m Employee(\u001b[38;5;124m\"\u001b[39m\u001b[38;5;124mJohn Doe\u001b[39m\u001b[38;5;124m\"\u001b[39m, \u001b[38;5;241m50000\u001b[39m)\n",
      "\u001b[1;31mModuleNotFoundError\u001b[0m: No module named 'employee'"
     ]
    }
   ],
   "source": [
    "from employee import Employee\n",
    "\n",
    "# Creating an Employee object\n",
    "emp = Employee(Keerthi\", 50000)\n",
    "\n",
    "# Displaying employee details\n",
    "print(\"Employee Name:\", emp.get_name())\n",
    "print(\"Employee Salary:\", emp.get_salary())\n"
   ]
  },
  {
   "cell_type": "code",
   "execution_count": null,
   "id": "a0defde3-5884-48da-a8cf-0e40407cabe2",
   "metadata": {},
   "outputs": [],
   "source": []
  }
 ],
 "metadata": {
  "kernelspec": {
   "display_name": "Python [conda env:base] *",
   "language": "python",
   "name": "conda-base-py"
  },
  "language_info": {
   "codemirror_mode": {
    "name": "ipython",
    "version": 3
   },
   "file_extension": ".py",
   "mimetype": "text/x-python",
   "name": "python",
   "nbconvert_exporter": "python",
   "pygments_lexer": "ipython3",
   "version": "3.12.7"
  }
 },
 "nbformat": 4,
 "nbformat_minor": 5
}
