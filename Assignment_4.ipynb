{
 "cells": [
  {
   "cell_type": "code",
   "execution_count": 1,
   "id": "2ad63c91-0858-4785-9737-37395f97fb4c",
   "metadata": {},
   "outputs": [
    {
     "name": "stdout",
     "output_type": "stream",
     "text": [
      "Length of the list: 6\n"
     ]
    }
   ],
   "source": [
    "# 1. len() function in Python\n",
    "# The len() function returns the number of items in an object (like a list, string, or tuple).\n",
    "\n",
    "# Example: Finding the length of a list\n",
    "numbers = [10, 20, 30, 40, 50,60]\n",
    "length = len(numbers)\n",
    "print(\"Length of the list:\", length)"
   ]
  },
  {
   "cell_type": "code",
   "execution_count": 10,
   "id": "86d073e6-6f66-497d-9d3f-943eaaaea599",
   "metadata": {},
   "outputs": [
    {
     "name": "stdout",
     "output_type": "stream",
     "text": [
      "Hello, Keerthi!\n"
     ]
    }
   ],
   "source": [
    "# 2. Function to greet a user\n",
    "def greet(name):\n",
    "    \"\"\"This function takes a name as input and prints a greeting.\"\"\"\n",
    "    print(f\"Hello, {name}!\")\n",
    "greet(\"Keerthi\")\n"
   ]
  },
  {
   "cell_type": "code",
   "execution_count": 18,
   "id": "b71b315f-0c5d-49ad-b330-b273a9cfb4cd",
   "metadata": {},
   "outputs": [
    {
     "name": "stdout",
     "output_type": "stream",
     "text": [
      "The maximum value in the list is: 50\n"
     ]
    }
   ],
   "source": [
    "# 3. Function to find the maximum value in a list without using max()\n",
    "\n",
    "def find_maximum(numbers):\n",
    "    \"\"\"This function takes a list of integers and returns the maximum value.\"\"\"\n",
    "    if len(numbers) == 0:\n",
    "        return None  # Return None if the list is empty\n",
    "    \n",
    "    # Start by assuming the first number is the maximum\n",
    "    max_value = numbers[0]\n",
    "    \n",
    "    for number in numbers:\n",
    "        if number > max_value:\n",
    "            max_value = number\n",
    "    \n",
    "    return max_value\n",
    "\n",
    "numbers_list = [3, 1, 4, 1, 5, 9, 2, 6,12,50]\n",
    "maximum_value = find_maximum(numbers_list)\n",
    "print(f\"The maximum value in the list is: {maximum_value}\")"
   ]
  },
  {
   "cell_type": "code",
   "execution_count": 22,
   "id": "e81cc30a-6def-42e8-8a96-ccb29c6b5da6",
   "metadata": {},
   "outputs": [
    {
     "name": "stdout",
     "output_type": "stream",
     "text": [
      "Inside function: This is local\n",
      "Outside function: This is global\n"
     ]
    }
   ],
   "source": [
    "\n",
    "# 4. Local vs Global Variables\n",
    "# A global variable is declared outside any function and can be accessed anywhere in the script.\n",
    "# A local variable is declared inside a function and is only accessible within that function.\n",
    "\n",
    "global_var = \"This is global\"  \n",
    "\n",
    "def show_scope():\n",
    "    global_var = \"This is local\" \n",
    "    print(\"Inside function:\", global_var) \n",
    "\n",
    "show_scope()\n",
    "print(\"Outside function:\", global_var) "
   ]
  },
  {
   "cell_type": "code",
   "execution_count": null,
   "id": "9be7806f-befb-45ed-9f5c-30750a7e912f",
   "metadata": {},
   "outputs": [],
   "source": [
    "# 5. Function with Default Parameter\n",
    "def calculate_area(length, width=5):\n",
    "    \"\"\"This function calculates the area of a rectangle.\n",
    "    If the width is not provided, it defaults to 5.\"\"\"\n",
    "    return length * width\n",
    "\n",
    "# Example usage\n",
    "print(\"Area with both length and width:\", calculate_area(10, 4))  # Both arguments provided\n",
    "print(\"Area with only length:\", calculate_area(10))  # Width defaults to 5\n"
   ]
  }
 ],
 "metadata": {
  "kernelspec": {
   "display_name": "Python [conda env:base] *",
   "language": "python",
   "name": "conda-base-py"
  },
  "language_info": {
   "codemirror_mode": {
    "name": "ipython",
    "version": 3
   },
   "file_extension": ".py",
   "mimetype": "text/x-python",
   "name": "python",
   "nbconvert_exporter": "python",
   "pygments_lexer": "ipython3",
   "version": "3.12.7"
  }
 },
 "nbformat": 4,
 "nbformat_minor": 5
}
