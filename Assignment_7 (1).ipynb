{
 "cells": [
  {
   "cell_type": "code",
   "execution_count": 3,
   "id": "f2456bfa-1ada-42c4-8182-473f4713dca7",
   "metadata": {},
   "outputs": [
    {
     "name": "stdout",
     "output_type": "stream",
     "text": [
      "[[ 1  2  3  4  5]\n",
      " [ 6  7  8  9 10]]\n"
     ]
    }
   ],
   "source": [
    "#Exercise 1: Create a numpy array and reshape it to a 2x5 matrix.\n",
    "\n",
    "\n",
    "import numpy as np\n",
    "\n",
    "arr = np.arange(1, 11)  # Create an array from 1 to 10\n",
    "reshaped_arr = arr.reshape(2, 5)  # Reshape to 2x5 matrix\n",
    "print(reshaped_arr)\n",
    "\n",
    "\n"
   ]
  },
  {
   "cell_type": "code",
   "execution_count": 7,
   "id": "c829eee4-d6d9-4126-b411-88b2d5c6c28d",
   "metadata": {},
   "outputs": [
    {
     "name": "stdout",
     "output_type": "stream",
     "text": [
      "[ 6  7  8  9 10 11 12 13 14 15 16]\n"
     ]
    }
   ],
   "source": [
    "#Exercise 2: Extract elements between the 5th and 15th index from a numpy array.\n",
    "\n",
    "arr = np.arange(1, 21)  # Create an array from 1 to 20\n",
    "extracted_elements = arr[5:16]  # Extract elements from index 5 to 15\n",
    "print(extracted_elements)\n"
   ]
  },
  {
   "cell_type": "code",
   "execution_count": 9,
   "id": "a690add6-62c3-4075-a68b-cd3ea342428e",
   "metadata": {},
   "outputs": [
    {
     "name": "stdout",
     "output_type": "stream",
     "text": [
      "apples     3\n",
      "bananas    2\n",
      "oranges    1\n",
      "pears      4\n",
      "dtype: int64\n"
     ]
    }
   ],
   "source": [
    "#Exercise 3: Create a Pandas series and add a new item.\n",
    "\n",
    "import pandas as pd\n",
    "\n",
    "fruit_series = pd.Series({'apples': 3, 'bananas': 2, 'oranges': 1})  # Create series\n",
    "fruit_series['pears'] = 4  # Add new item\n",
    "print(fruit_series)\n"
   ]
  },
  {
   "cell_type": "code",
   "execution_count": 11,
   "id": "e9363a6b-52e4-4bac-bdae-f54905fa7dd5",
   "metadata": {},
   "outputs": [
    {
     "name": "stdout",
     "output_type": "stream",
     "text": [
      "      name  age gender\n",
      "0    Alice   25      F\n",
      "1      Bob   30      M\n",
      "2  Charlie   22      M\n",
      "3    David   45      M\n",
      "4      Eve   35      F\n",
      "5    Frank   28      M\n",
      "6    Grace   40      F\n",
      "7    Helen   32      F\n",
      "8      Ian   27      M\n",
      "9     Jack   50      M\n"
     ]
    }
   ],
   "source": [
    "#Exercise 4: Create a dataframe with name, age, and gender.\n",
    "data = {\n",
    "    'name': ['Alice', 'Bob', 'Charlie', 'David', 'Eve', 'Frank', 'Grace', 'Helen', 'Ian', 'Jack'],\n",
    "    'age': [25, 30, 22, 45, 35, 28, 40, 32, 27, 50],\n",
    "    'gender': ['F', 'M', 'M', 'M', 'F', 'M', 'F', 'F', 'M', 'M']\n",
    "}\n",
    "\n",
    "df = pd.DataFrame(data)\n",
    "print(df)\n",
    "\n"
   ]
  },
  {
   "cell_type": "code",
   "execution_count": 13,
   "id": "1abba381-d1f9-4fb9-af9f-0b4e8cf43af6",
   "metadata": {},
   "outputs": [
    {
     "name": "stdout",
     "output_type": "stream",
     "text": [
      "      name  age gender  occupation\n",
      "0    Alice   25      F  Programmer\n",
      "1      Bob   30      M     Manager\n",
      "2  Charlie   22      M     Analyst\n",
      "3    David   45      M  Programmer\n",
      "4      Eve   35      F     Manager\n",
      "5    Frank   28      M     Analyst\n",
      "6    Grace   40      F  Programmer\n",
      "7    Helen   32      F     Manager\n",
      "8      Ian   27      M     Analyst\n",
      "9     Jack   50      M  Programmer\n"
     ]
    }
   ],
   "source": [
    "#Exercise 5: Add a new column \"occupation\".\n",
    "occupations = ['Programmer', 'Manager', 'Analyst', 'Programmer', 'Manager', 'Analyst', \n",
    "               'Programmer', 'Manager', 'Analyst', 'Programmer']\n",
    "df['occupation'] = occupations  # Add new column\n",
    "print(df)\n",
    "\n"
   ]
  },
  {
   "cell_type": "code",
   "execution_count": null,
   "id": "b80196d9-fd0c-41d8-b6c4-589124c902fc",
   "metadata": {},
   "outputs": [],
   "source": [
    "#Exercise 6: Select rows where the age is greater than or equal to 30.\n",
    "python\n",
    "Copy\n",
    "Edit\n"
   ]
  }
 ],
 "metadata": {
  "kernelspec": {
   "display_name": "Python [conda env:base] *",
   "language": "python",
   "name": "conda-base-py"
  },
  "language_info": {
   "codemirror_mode": {
    "name": "ipython",
    "version": 3
   },
   "file_extension": ".py",
   "mimetype": "text/x-python",
   "name": "python",
   "nbconvert_exporter": "python",
   "pygments_lexer": "ipython3",
   "version": "3.12.7"
  }
 },
 "nbformat": 4,
 "nbformat_minor": 5
}
