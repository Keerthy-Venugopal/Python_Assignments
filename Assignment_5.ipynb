{
 "cells": [
  {
   "cell_type": "code",
   "execution_count": 1,
   "id": "388ee2e8-d60f-4188-9154-bcb9b21acea5",
   "metadata": {},
   "outputs": [
    {
     "name": "stdin",
     "output_type": "stream",
     "text": [
      "Enter the filename to read:  example.txt\n"
     ]
    },
    {
     "name": "stdout",
     "output_type": "stream",
     "text": [
      "The file does not exist. Please check the filename.\n"
     ]
    }
   ],
   "source": [
    "# Exercise 1: Read and display file contents\n",
    "filename = input(\"Enter the filename to read: \")\n",
    "\n",
    "try:\n",
    "    with open(filename, 'r') as file:\n",
    "        content = file.read()\n",
    "        print(\"\\nFile Contents:\")\n",
    "        print(content)\n",
    "except FileNotFoundError:\n",
    "    print(\"The file does not exist. Please check the filename.\")\n"
   ]
  },
  {
   "cell_type": "code",
   "execution_count": 5,
   "id": "12ac3c87-d7ea-4820-8aee-8f7860ce769a",
   "metadata": {},
   "outputs": [
    {
     "name": "stdin",
     "output_type": "stream",
     "text": [
      "Enter the source filename:  ff\n",
      "Enter the destination filename:  gg\n"
     ]
    },
    {
     "name": "stdout",
     "output_type": "stream",
     "text": [
      "The source file does not exist. Please check the filename.\n"
     ]
    }
   ],
   "source": [
    "# Exercise 2: Copy contents from one file to another\n",
    "source_file_name = input(\"Enter the source filename: \")\n",
    "destination_file_name = input(\"Enter the destination filename: \")\n",
    "\n",
    "try:\n",
    "    with open(source_file_name, 'r') as source:\n",
    "        content = source.read()\n",
    "        \n",
    "    with open(destination_file_name, 'w') as dest:\n",
    "        # Write the contents to the destination file\n",
    "        dest.write(content)\n",
    "        \n",
    "    print(f\"Contents copied from {source_file_name} to {destination_file_name} successfully.\")\n",
    "except FileNotFoundError:\n",
    "    print(\"The source file does not exist. Please check the filename.\")\n",
    "except Exception as e:\n",
    "    print(f\"An error occurred: {e}\")\n"
   ]
  },
  {
   "cell_type": "code",
   "execution_count": 7,
   "id": "dc3e7d9b-d50b-40a0-8144-0878f26e9510",
   "metadata": {},
   "outputs": [
    {
     "name": "stdin",
     "output_type": "stream",
     "text": [
      "Enter the filename to read:  ff\n"
     ]
    },
    {
     "name": "stdout",
     "output_type": "stream",
     "text": [
      "The file does not exist. Please check the filename.\n"
     ]
    }
   ],
   "source": [
    "# Exercise 3: Count the total number of words in a file\n",
    "filename = input(\"Enter the filename to read: \")\n",
    "\n",
    "try:\n",
    "    with open(filename, 'r') as file:\n",
    "        content = file.read()\n",
    "        \n",
    "        words = content.split()\n",
    "        \n",
    "        word_count = len(words)\n",
    "        \n",
    "        print(f\"\\nTotal number of words in '{filename}': {word_count}\")\n",
    "except FileNotFoundError:\n",
    "    print(\"The file does not exist\")\n",
    "except Exception as e:\n",
    "    print(f\"An error occurred: {e}\")\n"
   ]
  },
  {
   "cell_type": "code",
   "execution_count": 9,
   "id": "5d3023c1-5824-4c7b-bb84-ccfc2111b7af",
   "metadata": {},
   "outputs": [
    {
     "name": "stdin",
     "output_type": "stream",
     "text": [
      "Enter a number:  2\n"
     ]
    },
    {
     "name": "stdout",
     "output_type": "stream",
     "text": [
      "The integer value is: 2\n"
     ]
    }
   ],
   "source": [
    "# Exercise 4: Convert a string to an integer with exception handling\n",
    "\n",
    "try:\n",
    "    user_inp = input(\"Enter a number: \")\n",
    "    \n",
    "    number = int(user_inp)\n",
    "    \n",
    "    print(f\"The integer value is: {number}\")\n",
    "    \n",
    "except ValueError:\n",
    "    print(\"Invalid input! Please enter a valid number.\")\n"
   ]
  },
  {
   "cell_type": "code",
   "execution_count": 13,
   "id": "357547d7-6670-48e5-a360-381d7ed5f1cd",
   "metadata": {},
   "outputs": [
    {
     "name": "stdin",
     "output_type": "stream",
     "text": [
      "Enter a list of integers separated by spaces:  2 3 4\n"
     ]
    },
    {
     "name": "stdout",
     "output_type": "stream",
     "text": [
      "The list of integers is: [2, 3, 4]\n"
     ]
    }
   ],
   "source": [
    "# Exercise 5: Check for negative integers and raise an exception\n",
    "\n",
    "try:\n",
    "    user_input = input(\"Enter a list of integers separated by spaces: \")\n",
    "    \n",
    "    # Convert the input into a list of integers\n",
    "    numbers = list(map(int, user_input.split()))\n",
    "    \n",
    "    for num in numbers:\n",
    "        if num < 0:\n",
    "            raise ValueError(\"Negative integers are not allowed.\")\n",
    "    \n",
    "    print(\"The list of integers is:\", numbers)\n",
    "\n",
    "except ValueError as e:\n",
    "    print(f\"Error: {e}\")\n"
   ]
  },
  {
   "cell_type": "code",
   "execution_count": 15,
   "id": "609bef30-46c4-45b5-b14f-8220687bd4c8",
   "metadata": {},
   "outputs": [
    {
     "name": "stdin",
     "output_type": "stream",
     "text": [
      "Enter a list of integers separated by spaces:  2 6 7\n"
     ]
    },
    {
     "name": "stdout",
     "output_type": "stream",
     "text": [
      "The average of the numbers is: 5.0\n",
      "Program finished running.\n"
     ]
    }
   ],
   "source": [
    "# Exercise 6: Compute the average of a list of integers with exception handling\n",
    "\n",
    "try:\n",
    "    user_input = input(\"Enter a list of integers separated by spaces: \")\n",
    "    \n",
    "    numbers = list(map(int, user_input.split()))\n",
    "    \n",
    "    average = sum(numbers) / len(numbers)\n",
    "    \n",
    "    print(f\"The average of the numbers is: {average}\")\n",
    "    \n",
    "except ValueError:\n",
    "    print(\"Invalid input! Please enter only integers.\")\n",
    "except ZeroDivisionError:\n",
    "    print(\"No numbers were entered. Cannot calculate the average.\")\n",
    "finally:\n",
    "    print(\"Program finished running.\")\n"
   ]
  },
  {
   "cell_type": "code",
   "execution_count": 17,
   "id": "26b8123b-c232-4472-8d36-2fd2419ba812",
   "metadata": {},
   "outputs": [
    {
     "name": "stdin",
     "output_type": "stream",
     "text": [
      "Enter the filename to write to:  wee\n",
      "Enter the text to write to the file:  ff\n"
     ]
    },
    {
     "name": "stdout",
     "output_type": "stream",
     "text": [
      "Text written to the file successfully.\n",
      "Welcome! The file operation was successful.\n"
     ]
    }
   ],
   "source": [
    "# Exercise 7: Write a string to a file with exception handling\n",
    "\n",
    "try:\n",
    "    filename = input(\"Enter the filename to write to: \")\n",
    "    \n",
    "    text_to_write = input(\"Enter the text to write to the file: \")\n",
    "    \n",
    "    with open(filename, 'w') as file:\n",
    "        file.write(text_to_write)\n",
    "    \n",
    "    print(\"Text written to the file successfully.\")\n",
    "    print(\"Welcome! The file operation was successful.\")\n",
    "    \n",
    "except Exception as e:\n",
    "    print(f\"An error occurred: {e}\")\n"
   ]
  },
  {
   "cell_type": "code",
   "execution_count": null,
   "id": "7b62294a-18b8-4092-a1bc-7847da7ed210",
   "metadata": {},
   "outputs": [],
   "source": []
  }
 ],
 "metadata": {
  "kernelspec": {
   "display_name": "Python [conda env:base] *",
   "language": "python",
   "name": "conda-base-py"
  },
  "language_info": {
   "codemirror_mode": {
    "name": "ipython",
    "version": 3
   },
   "file_extension": ".py",
   "mimetype": "text/x-python",
   "name": "python",
   "nbconvert_exporter": "python",
   "pygments_lexer": "ipython3",
   "version": "3.12.7"
  }
 },
 "nbformat": 4,
 "nbformat_minor": 5
}
