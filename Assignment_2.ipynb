{
 "cells": [
  {
   "cell_type": "code",
   "execution_count": 1,
   "id": "ca462142-e32f-46fe-b0d4-efd13b9319ab",
   "metadata": {},
   "outputs": [
    {
     "name": "stdout",
     "output_type": "stream",
     "text": [
      "Original list: [4, 8, 15, 16, 23]\n"
     ]
    }
   ],
   "source": [
    "# List Exercise Q1\n",
    "random_numbers = [4, 8, 15, 16, 23] \n",
    "print(\"Original list:\", random_numbers)"
   ]
  },
  {
   "cell_type": "code",
   "execution_count": 3,
   "id": "da18909b-5e62-4287-a9a7-78b12ba2390e",
   "metadata": {},
   "outputs": [
    {
     "name": "stdout",
     "output_type": "stream",
     "text": [
      "Updated list: [4, 8, 15, 16, 23, 42, 7, 11]\n"
     ]
    }
   ],
   "source": [
    "# List Exercise Q2\n",
    "random_numbers.extend([42, 7, 11])  # Inserting 3 new values\n",
    "print(\"Updated list:\", random_numbers)"
   ]
  },
  {
   "cell_type": "code",
   "execution_count": 5,
   "id": "7012da3d-52fa-441e-bbcd-8ef6aa1600cf",
   "metadata": {},
   "outputs": [
    {
     "name": "stdout",
     "output_type": "stream",
     "text": [
      "Elements in the list:\n",
      "4\n",
      "8\n",
      "15\n",
      "16\n",
      "23\n",
      "42\n",
      "7\n",
      "11\n"
     ]
    }
   ],
   "source": [
    "# List Exercise Q3\n",
    "print(\"Elements in the list:\")\n",
    "for number in random_numbers:\n",
    "    print(number)"
   ]
  },
  {
   "cell_type": "code",
   "execution_count": 7,
   "id": "4d6447b6-b89c-4ab5-9dc3-af46875f5534",
   "metadata": {},
   "outputs": [
    {
     "name": "stdout",
     "output_type": "stream",
     "text": [
      "Dictionary: {'name': 'John', 'age': 25, 'address': 'New York'}\n",
      "Updated dictionary: {'name': 'John', 'age': 25, 'address': 'New York', 'phone': '1234567890'}\n"
     ]
    }
   ],
   "source": [
    "# Dictionary Exercise Q1\n",
    "person_info = {'name': 'John', 'age': 25, 'address': 'New York'}\n",
    "print(\"Dictionary:\", person_info)\n",
    "\n",
    "# Dictionary Exercise Q2\n",
    "person_info['phone'] = '1234567890'  # Adding a new key-value pair\n",
    "print(\"Updated dictionary:\", person_info)\n"
   ]
  },
  {
   "cell_type": "code",
   "execution_count": 9,
   "id": "9a8da065-7d17-48bd-8b1f-1ff3e144167e",
   "metadata": {},
   "outputs": [
    {
     "name": "stdout",
     "output_type": "stream",
     "text": [
      "Original set: {1, 2, 3, 4, 5}\n",
      "Set after adding 6: {1, 2, 3, 4, 5, 6}\n",
      "Set after removing 3: {1, 2, 4, 5, 6}\n"
     ]
    }
   ],
   "source": [
    "# Set Exercise Q1\n",
    "my_set = {1, 2, 3, 4, 5}\n",
    "print(\"Original set:\", my_set)\n",
    "\n",
    "# Set Exercise Q2\n",
    "my_set.add(6)  # Adding a new value\n",
    "print(\"Set after adding 6:\", my_set)\n",
    "\n",
    "# Set Exercise Q3\n",
    "my_set.discard(3)  # Removing the value 3\n",
    "print(\"Set after removing 3:\", my_set)\n"
   ]
  },
  {
   "cell_type": "code",
   "execution_count": 11,
   "id": "eaf9c2eb-bcbe-4b92-ab80-da691b9c2717",
   "metadata": {},
   "outputs": [
    {
     "name": "stdout",
     "output_type": "stream",
     "text": [
      "Tuple: (1, 2, 3, 4)\n",
      "Length of the tuple: 4\n"
     ]
    }
   ],
   "source": [
    "# Tuple Exercise Q1\n",
    "my_tuple = (1, 2, 3, 4)\n",
    "print(\"Tuple:\", my_tuple)\n",
    "\n",
    "# Tuple Exercise Q2\n",
    "tuple_length = len(my_tuple)  # Calculating the length of the tuple\n",
    "print(\"Length of the tuple:\", tuple_length)\n"
   ]
  },
  {
   "cell_type": "code",
   "execution_count": null,
   "id": "1982836f-8d5d-4416-96bd-9869e293fb59",
   "metadata": {},
   "outputs": [],
   "source": []
  }
 ],
 "metadata": {
  "kernelspec": {
   "display_name": "Python [conda env:base] *",
   "language": "python",
   "name": "conda-base-py"
  },
  "language_info": {
   "codemirror_mode": {
    "name": "ipython",
    "version": 3
   },
   "file_extension": ".py",
   "mimetype": "text/x-python",
   "name": "python",
   "nbconvert_exporter": "python",
   "pygments_lexer": "ipython3",
   "version": "3.12.7"
  }
 },
 "nbformat": 4,
 "nbformat_minor": 5
}
