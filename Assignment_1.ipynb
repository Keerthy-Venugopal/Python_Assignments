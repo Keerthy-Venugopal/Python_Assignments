{
 "cells": [
  {
   "cell_type": "code",
   "execution_count": 1,
   "id": "2155a63d-dc5a-4403-ac42-7e4bec29d533",
   "metadata": {},
   "outputs": [
    {
     "name": "stdout",
     "output_type": "stream",
     "text": [
      "Keerthy\n",
      "ST1001\n",
      "keerthy.venu13@gmail.com\n"
     ]
    }
   ],
   "source": [
    "# Exercise 1\n",
    "print(\"Keerthy\")\n",
    "print(\"ST1001\")\n",
    "print(\"keerthy.venu13@gmail.com\")"
   ]
  },
  {
   "cell_type": "code",
   "execution_count": 3,
   "id": "ee670c2a-9af8-4d07-bea4-772bbfb5f14c",
   "metadata": {},
   "outputs": [
    {
     "name": "stdout",
     "output_type": "stream",
     "text": [
      "Keerthy\n",
      "ST1001\n",
      "keerthy.venu13@gmail.com\n"
     ]
    }
   ],
   "source": [
    "# Exercise 2\n",
    "print(\"Keerthy\\nST1001\\nkeerthy.venu13@gmail.com\")"
   ]
  },
  {
   "cell_type": "code",
   "execution_count": 5,
   "id": "d5e1d8d0-926c-49b6-9f77-afe5dbb8a113",
   "metadata": {},
   "outputs": [
    {
     "name": "stdout",
     "output_type": "stream",
     "text": [
      "14 + 7 = 21\n",
      "14 * 7 = 98\n",
      "14 - 7 = 7\n",
      "14 / 7 = 2.0\n"
     ]
    }
   ],
   "source": [
    "# Exercise 3\n",
    "num1 = 14\n",
    "num2 = 7\n",
    "print(f\"{num1} + {num2} = {num1 + num2}\")\n",
    "print(f\"{num1} * {num2} = {num1 * num2}\")\n",
    "print(f\"{num1} - {num2} = {num1 - num2}\")\n",
    "print(f\"{num1} / {num2} = {num1 / num2}\")"
   ]
  },
  {
   "cell_type": "code",
   "execution_count": 7,
   "id": "5569d375-3a43-46ac-b961-6e39d77018c3",
   "metadata": {},
   "outputs": [
    {
     "name": "stdout",
     "output_type": "stream",
     "text": [
      "1\n",
      "2\n",
      "3\n",
      "4\n",
      "5\n"
     ]
    }
   ],
   "source": [
    "# Exercise 4\n",
    "for i in range(1, 6):\n",
    "    print(i)"
   ]
  },
  {
   "cell_type": "code",
   "execution_count": 9,
   "id": "a8913396-32d8-4dd6-a8dc-7795e08889b5",
   "metadata": {},
   "outputs": [
    {
     "name": "stdout",
     "output_type": "stream",
     "text": [
      "\"SDK\" stands for \"Software Development Kit\", whereas\n",
      "\"IDE\" stands for \"Integrated Development Environment\".\n"
     ]
    }
   ],
   "source": [
    "# Exercise 5\n",
    "print(\"\\\"SDK\\\" stands for \\\"Software Development Kit\\\", whereas\")\n",
    "print(\"\\\"IDE\\\" stands for \\\"Integrated Development Environment\\\".\")"
   ]
  },
  {
   "cell_type": "code",
   "execution_count": 11,
   "id": "80da0d48-62ad-4ae8-9dfa-215e3e966e54",
   "metadata": {},
   "outputs": [
    {
     "name": "stdout",
     "output_type": "stream",
     "text": [
      "python is an \"awesome\" language.\n",
      "python\n",
      "\t2023\n",
      "I'm from Entri\n",
      "5\n",
      "e\n",
      "Entri\n",
      "2023\n",
      "Entr2023\n",
      "Entri*20"
     ]
    }
   ],
   "source": [
    "# Exercise 6\n",
    "print(\"python is an \\\"awesome\\\" language.\")\n",
    "print(\"python\\n\\t2023\")\n",
    "print('I\\'m from Entri.\\b')\n",
    "print(\"\\65\")\n",
    "print(\"\\x65\")\n",
    "print(\"Entri\", \"2023\", sep=\"\\n\")\n",
    "print(\"Entri\", \"2023\", sep=\"\\b\")\n",
    "print(\"Entri\", \"2023\", sep=\"*\", end=\"\\b\\b\\b\\b\")\n"
   ]
  },
  {
   "cell_type": "code",
   "execution_count": 13,
   "id": "faebd7cb-eb5c-45bd-b3fe-cdbff1f705aa",
   "metadata": {},
   "outputs": [
    {
     "name": "stdout",
     "output_type": "stream",
     "text": [
      "Type of num: <class 'int'>\n",
      "Type of textnum: <class 'str'>\n",
      "Type of decimal: <class 'float'>\n",
      "Sum of variables: 178.3\n",
      "Type of sum: <class 'float'>\n"
     ]
    }
   ],
   "source": [
    "# Exercise 7\n",
    "num = 23\n",
    "textnum = \"57\"\n",
    "decimal = 98.3\n",
    "\n",
    "print(f\"Type of num: {type(num)}\")\n",
    "print(f\"Type of textnum: {type(textnum)}\")\n",
    "print(f\"Type of decimal: {type(decimal)}\")\n",
    "\n",
    "sum_of_variables = num + int(textnum) + decimal\n",
    "print(f\"Sum of variables: {sum_of_variables}\")\n",
    "print(f\"Type of sum: {type(sum_of_variables)}\")"
   ]
  },
  {
   "cell_type": "code",
   "execution_count": 15,
   "id": "20c1faba-7c22-4fe7-8c09-dcff22e4d9b0",
   "metadata": {},
   "outputs": [
    {
     "name": "stdout",
     "output_type": "stream",
     "text": [
      "The total number of minutes in a year is 525600.\n"
     ]
    }
   ],
   "source": [
    "# Exercise 8\n",
    "days_in_a_year = 365\n",
    "hours_in_a_day = 24\n",
    "minutes_in_an_hour = 60\n",
    "\n",
    "total_minutes = days_in_a_year * hours_in_a_day * minutes_in_an_hour\n",
    "print(f\"The total number of minutes in a year is {total_minutes}.\")"
   ]
  },
  {
   "cell_type": "code",
   "execution_count": 17,
   "id": "723c0586-f8c8-4886-9622-c5d1e9cb1ef3",
   "metadata": {},
   "outputs": [
    {
     "name": "stdin",
     "output_type": "stream",
     "text": [
      "Please enter your name:  keerthi\n"
     ]
    },
    {
     "name": "stdout",
     "output_type": "stream",
     "text": [
      "Hi keerthi, welcome to Python programming :)\n"
     ]
    }
   ],
   "source": [
    "# Exercise 9\n",
    "name = input(\"Please enter your name: \")\n",
    "print(f\"Hi {name}, welcome to Python programming :)\")"
   ]
  },
  {
   "cell_type": "code",
   "execution_count": 19,
   "id": "4e3a6f5b-41e9-4cb2-ad52-337cc7be9bb8",
   "metadata": {},
   "outputs": [
    {
     "name": "stdin",
     "output_type": "stream",
     "text": [
      "Please enter amount in pounds (£):  10\n"
     ]
    },
    {
     "name": "stdout",
     "output_type": "stream",
     "text": [
      "£10.0 are $13.80.\n"
     ]
    }
   ],
   "source": [
    "# Exercise 10\n",
    "pounds = float(input(\"Please enter amount in pounds (£): \"))\n",
    "conversion_rate = 1.38  # Example conversion rate; adjust based on the current rate.\n",
    "dollars = pounds * conversion_rate\n",
    "print(f\"£{pounds} are ${dollars:.2f}.\")"
   ]
  },
  {
   "cell_type": "code",
   "execution_count": null,
   "id": "369f8764-3144-4251-adb2-e26e8f9df14b",
   "metadata": {},
   "outputs": [],
   "source": []
  }
 ],
 "metadata": {
  "kernelspec": {
   "display_name": "Python [conda env:base] *",
   "language": "python",
   "name": "conda-base-py"
  },
  "language_info": {
   "codemirror_mode": {
    "name": "ipython",
    "version": 3
   },
   "file_extension": ".py",
   "mimetype": "text/x-python",
   "name": "python",
   "nbconvert_exporter": "python",
   "pygments_lexer": "ipython3",
   "version": "3.12.7"
  }
 },
 "nbformat": 4,
 "nbformat_minor": 5
}
