{
 "cells": [
  {
   "cell_type": "code",
   "execution_count": null,
   "id": "33592ff7-7f47-41b3-a86e-8ddcec1f0697",
   "metadata": {},
   "outputs": [],
   "source": []
  }
 ],
 "metadata": {
  "kernelspec": {
   "display_name": "",
   "name": ""
  },
  "language_info": {
   "name": ""
  }
 },
 "nbformat": 4,
 "nbformat_minor": 5
}
